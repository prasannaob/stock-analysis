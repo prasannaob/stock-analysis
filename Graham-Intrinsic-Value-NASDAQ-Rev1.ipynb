{
 "cells": [
  {
   "cell_type": "code",
   "execution_count": 2,
   "metadata": {},
   "outputs": [],
   "source": [
    "import yahoo_fin.stock_info as si\n",
    "import numpy as np\n",
    "import pandas as pd\n",
    "from pandas import Series, DataFrame\n",
    "from pandas import read_html\n",
    "\n",
    "nan=np.nan"
   ]
  },
  {
   "cell_type": "code",
   "execution_count": 3,
   "metadata": {},
   "outputs": [],
   "source": [
    "def GrahamInVal (sticker):\n",
    "    #sticker = \"CRM\"\n",
    "\n",
    "    # Read EPS\n",
    "    url_Summary = 'https://finance.yahoo.com/quote/' + sticker\n",
    "    dframe_list_Summary = pd.read_html(url_Summary)\n",
    "    Summary_tab = dframe_list_Summary[1]\n",
    "    EPS_str = Summary_tab.loc[3,1]\n",
    "    EPS = float(EPS_str)\n",
    "\n",
    "    # Read P/E\n",
    "    #PERatio_str = Summary_tab.loc[2,1]\n",
    "    #PERatio_read = float(PERatio_str)\n",
    "    PERatio_fixed = 7.0\n",
    "    PERatio = PERatio_fixed\n",
    "\n",
    "    # Read 5 Yr Growth Rate\n",
    "    url_Analysis = 'https://finance.yahoo.com/quote/' + sticker + '/analysis?p=' + sticker\n",
    "    dframe_list_Analysis = pd.read_html(url_Analysis)\n",
    "    GrowthEst_tab = dframe_list_Analysis[5]\n",
    "    GrowthEst_str = GrowthEst_tab.loc[4,sticker]\n",
    "    if pd.isnull(GrowthEst_str) == 0:\n",
    "        GrowthEst = float(GrowthEst_str[:-1])  \n",
    "    else:\n",
    "        GrowthEst = nan\n",
    "    GrowthScale = 1\n",
    "\n",
    "    # Read AAACorpBond Yield\n",
    "    url_AAACorpBond = 'https://ycharts.com/indicators/moodys_seasoned_aaa_corporate_bond_yield'\n",
    "    dframe_list_AAACorpBond = pd.read_html(url_AAACorpBond)\n",
    "    dframe_AAACorpBond = dframe_list_AAACorpBond[0]\n",
    "    AAACorpBond_str = dframe_AAACorpBond.loc[0,'Unnamed: 1']\n",
    "    if pd.isnull(AAACorpBond_str) == 0:\n",
    "        AAACorpBond = float(AAACorpBond_str[:-1])\n",
    "    else:\n",
    "        AAACorpBond = nan\n",
    "    CorpBond = 4.4\n",
    "\n",
    "    IntrinsicVal = round((EPS * (PERatio + (GrowthEst * GrowthScale)) * CorpBond) / AAACorpBond,2)\n",
    "\n",
    "    # Read Current Val\n",
    "    Summary_tab = dframe_list_Summary[0]\n",
    "    PrevClose_str = Summary_tab.loc[0,1]\n",
    "    PrevClose = round(float(PrevClose_str),2)\n",
    "\n",
    "    Decision = nan\n",
    "    if pd.isnull(IntrinsicVal) == 0:\n",
    "        if PrevClose < IntrinsicVal:\n",
    "            Decision = 'BUY'\n",
    "        else:\n",
    "            Decision = 'SELL'\n",
    "\n",
    "    MarginRaw = (IntrinsicVal-PrevClose)/PrevClose\n",
    "    Margin = round(MarginRaw*100,2)\n",
    "    #Margin = '{percent:.2%}'.format(percent=MarginRaw)\n",
    "\n",
    "    return {'Sticker':sticker,\n",
    "             'IntrinsicVal($)':IntrinsicVal,\n",
    "             'PrevClose($)':PrevClose,\n",
    "             'Decision':Decision,\n",
    "             'Margin(%)':Margin,\n",
    "             'EPS':EPS,\n",
    "             'GrowthEst(%)':GrowthEst}"
   ]
  },
  {
   "cell_type": "code",
   "execution_count": 4,
   "metadata": {},
   "outputs": [],
   "source": [
    "#DO NOT TOUCH THIS\n",
    "\n",
    "#stock_val = GrahamInVal(\"AAPL\")\n",
    "\n",
    "# Create the pandas DataFrame \n",
    "#stock_tabsum = pd.DataFrame.from_dict(stock_val, orient='index')\n",
    "#stock_sum = stock_tabsum.transpose()\n",
    "\n",
    "# print dataframe. \n",
    "#stock_sum.set_index('Sticker', inplace=True)\n"
   ]
  },
  {
   "cell_type": "code",
   "execution_count": 5,
   "metadata": {},
   "outputs": [
    {
     "name": "stdout",
     "output_type": "stream",
     "text": [
      "['AACG']\n",
      "['AACG']\n",
      "AACG\n",
      "        IntrinsicVal($) PrevClose($) Decision Margin(%)  EPS GrowthEst(%)\n",
      "Sticker                                                                  \n",
      "AACG                NaN         1.27      NaN       NaN  NaN           25\n"
     ]
    }
   ],
   "source": [
    "nasdaq_list = si.tickers_nasdaq()\n",
    "#stock_list = Series([\"SAVA\"])\n",
    "stock_list = ['AACG']\n",
    "#stock_list = nasdaq_list[:5]\n",
    "\n",
    "print(stock_list)\n",
    "\n",
    "#for i in stock_list:\n",
    "#    read1ok=0\n",
    "#    read2ok=0\n",
    "#    #print(i)\n",
    "#    \n",
    "#    url_Analysis = 'https://finance.yahoo.com/quote/' + i + '/analysis?p=' + i\n",
    "#    try:\n",
    "#        dframe_list_Analysis = pd.read_html(url_Analysis)\n",
    "#        read1ok = 1\n",
    "#        #print(read1ok)\n",
    "#    except ValueError:\n",
    "#        pass\n",
    "#    \n",
    "#    if read1ok == 0:\n",
    "#        stock_list.remove(i)\n",
    "        \n",
    "print(stock_list)\n",
    "    \n",
    "#stock_sum = pd.DataFrame(np.array([[nan, nan, nan, nan, nan, nan, nan]]),\n",
    "stock_sum = pd.DataFrame(np.arange(7*len(stock_list)).reshape((len(stock_list),7)),\n",
    "                         columns=['Sticker',\n",
    "                                  'IntrinsicVal($)',\n",
    "                                  'PrevClose($)',\n",
    "                                  'Decision', \n",
    "                                  'Margin(%)',\n",
    "                                  'EPS',\n",
    "                                  'GrowthEst(%)'])\n",
    "\n",
    "for i in stock_list:\n",
    "    print(i)\n",
    "    ami=GrahamInVal(i)\n",
    "    ami1 = pd.DataFrame.from_dict(ami, orient='index')\n",
    "    ami2 = ami1.transpose()\n",
    "    #print(ami2)\n",
    "    stock_sum = stock_sum.append(ami2)\n",
    "\n",
    "stock_sum.set_index('Sticker', inplace=True)\n",
    "stock_sum.drop(stock_sum.index[0:len(stock_list)], inplace=True)\n",
    "print(stock_sum)"
   ]
  },
  {
   "cell_type": "code",
   "execution_count": 24,
   "metadata": {},
   "outputs": [
    {
     "data": {
      "text/plain": [
       "True"
      ]
     },
     "execution_count": 24,
     "metadata": {},
     "output_type": "execute_result"
    }
   ],
   "source": [
    "a=nan\n",
    "a=\"12123\"\n",
    "#np.isnan(a)\n",
    "a.isdigit()"
   ]
  },
  {
   "cell_type": "code",
   "execution_count": 61,
   "metadata": {},
   "outputs": [
    {
     "ename": "AttributeError",
     "evalue": "'float' object has no attribute 'isdigit'",
     "output_type": "error",
     "traceback": [
      "\u001b[1;31m---------------------------------------------------------------------------\u001b[0m",
      "\u001b[1;31mAttributeError\u001b[0m                            Traceback (most recent call last)",
      "\u001b[1;32m<ipython-input-61-5c28e1cc4b11>\u001b[0m in \u001b[0;36m<module>\u001b[1;34m\u001b[0m\n\u001b[0;32m      4\u001b[0m \u001b[0mGrowthEst_tab\u001b[0m \u001b[1;33m=\u001b[0m \u001b[0mdframe_list_Analysis\u001b[0m\u001b[1;33m[\u001b[0m\u001b[1;36m5\u001b[0m\u001b[1;33m]\u001b[0m\u001b[1;33m\u001b[0m\u001b[1;33m\u001b[0m\u001b[0m\n\u001b[0;32m      5\u001b[0m \u001b[0mGrowthEst_str\u001b[0m \u001b[1;33m=\u001b[0m \u001b[0mGrowthEst_tab\u001b[0m\u001b[1;33m.\u001b[0m\u001b[0mloc\u001b[0m\u001b[1;33m[\u001b[0m\u001b[1;36m4\u001b[0m\u001b[1;33m,\u001b[0m\u001b[0msasa\u001b[0m\u001b[1;33m]\u001b[0m\u001b[1;33m\u001b[0m\u001b[1;33m\u001b[0m\u001b[0m\n\u001b[1;32m----> 6\u001b[1;33m \u001b[1;32mif\u001b[0m \u001b[0mGrowthEst_str\u001b[0m\u001b[1;33m.\u001b[0m\u001b[0misdigit\u001b[0m\u001b[1;33m(\u001b[0m\u001b[1;33m)\u001b[0m\u001b[1;33m:\u001b[0m\u001b[1;33m\u001b[0m\u001b[1;33m\u001b[0m\u001b[0m\n\u001b[0m\u001b[0;32m      7\u001b[0m     \u001b[0mGrowthEst\u001b[0m \u001b[1;33m=\u001b[0m \u001b[0mfloat\u001b[0m\u001b[1;33m(\u001b[0m\u001b[0mGrowthEst_str\u001b[0m\u001b[1;33m[\u001b[0m\u001b[1;33m:\u001b[0m\u001b[1;33m-\u001b[0m\u001b[1;36m1\u001b[0m\u001b[1;33m]\u001b[0m\u001b[1;33m)\u001b[0m\u001b[1;33m\u001b[0m\u001b[1;33m\u001b[0m\u001b[0m\n",
      "\u001b[1;31mAttributeError\u001b[0m: 'float' object has no attribute 'isdigit'"
     ]
    }
   ],
   "source": [
    "sasa = 'AAME'\n",
    "url_Analysis = 'https://finance.yahoo.com/quote/' + sasa + '/analysis?p=' + sasa\n",
    "dframe_list_Analysis = pd.read_html(url_Analysis)\n",
    "GrowthEst_tab = dframe_list_Analysis[5]\n",
    "GrowthEst_str = GrowthEst_tab.loc[4,sasa]\n",
    "if GrowthEst_str.isdigit():\n",
    "    GrowthEst = float(GrowthEst_str[:-1])  "
   ]
  },
  {
   "cell_type": "code",
   "execution_count": 62,
   "metadata": {},
   "outputs": [
    {
     "data": {
      "text/plain": [
       "True"
      ]
     },
     "execution_count": 62,
     "metadata": {},
     "output_type": "execute_result"
    }
   ],
   "source": [
    "GrowthEst_str\n",
    "#float(GrowthEst_str)\n",
    "pd.isnull(GrowthEst_str)"
   ]
  },
  {
   "cell_type": "code",
   "execution_count": null,
   "metadata": {},
   "outputs": [],
   "source": []
  }
 ],
 "metadata": {
  "kernelspec": {
   "display_name": "Python 3",
   "language": "python",
   "name": "python3"
  },
  "language_info": {
   "codemirror_mode": {
    "name": "ipython",
    "version": 3
   },
   "file_extension": ".py",
   "mimetype": "text/x-python",
   "name": "python",
   "nbconvert_exporter": "python",
   "pygments_lexer": "ipython3",
   "version": "3.7.4"
  }
 },
 "nbformat": 4,
 "nbformat_minor": 2
}
