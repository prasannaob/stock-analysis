{
 "cells": [
  {
   "cell_type": "code",
   "execution_count": 2,
   "metadata": {},
   "outputs": [],
   "source": [
    "import yahoo_fin.stock_info as si\n",
    "import numpy as np\n",
    "import pandas as pd\n",
    "from pandas import Series, DataFrame\n",
    "from pandas import read_html\n",
    "\n",
    "nan=np.nan"
   ]
  },
  {
   "cell_type": "code",
   "execution_count": 3,
   "metadata": {},
   "outputs": [],
   "source": [
    "def GrahamInVal (sticker):\n",
    "    #sticker = \"CRM\"\n",
    "\n",
    "    # Read EPS\n",
    "    url_Summary = 'https://finance.yahoo.com/quote/' + sticker\n",
    "    dframe_list_Summary = pd.read_html(url_Summary)\n",
    "    Summary_tab = dframe_list_Summary[1]\n",
    "    EPS_str = Summary_tab.loc[3,1]\n",
    "    EPS = float(EPS_str)\n",
    "\n",
    "    # Read P/E\n",
    "    #PERatio_str = Summary_tab.loc[2,1]\n",
    "    #PERatio_read = float(PERatio_str)\n",
    "    PERatio_fixed = 7.0\n",
    "    PERatio = PERatio_fixed\n",
    "\n",
    "    # Read 5 Yr Growth Rate\n",
    "    url_Analysis = 'https://finance.yahoo.com/quote/' + sticker + '/analysis?p=' + sticker\n",
    "    dframe_list_Analysis = pd.read_html(url_Analysis)\n",
    "    GrowthEst_tab = dframe_list_Analysis[5]\n",
    "    GrowthEst_str = GrowthEst_tab.loc[4,sticker]\n",
    "    GrowthEst = float(GrowthEst_str[:-1])\n",
    "    GrowthScale = 1\n",
    "\n",
    "    # Read AAACorpBond Yield\n",
    "    url_AAACorpBond = 'https://ycharts.com/indicators/moodys_seasoned_aaa_corporate_bond_yield'\n",
    "    dframe_list_AAACorpBond = pd.read_html(url_AAACorpBond)\n",
    "    dframe_AAACorpBond = dframe_list_AAACorpBond[0]\n",
    "    AAACorpBond_str = dframe_AAACorpBond.loc[0,'Unnamed: 1']\n",
    "    AAACorpBond = float(AAACorpBond_str[:-1])\n",
    "    CorpBond = 4.4\n",
    "\n",
    "    IntrinsicVal = round((EPS * (PERatio + (GrowthEst * GrowthScale)) * CorpBond) / AAACorpBond,2)\n",
    "\n",
    "    # Read Current Val\n",
    "    Summary_tab = dframe_list_Summary[0]\n",
    "    PrevClose_str = Summary_tab.loc[0,1]\n",
    "    PrevClose = round(float(PrevClose_str),2)\n",
    "\n",
    "    if PrevClose < IntrinsicVal:\n",
    "        Decision = 'BUY'\n",
    "    else:\n",
    "        Decision = 'SELL'\n",
    "\n",
    "    MarginRaw = (PrevClose/IntrinsicVal)-1\n",
    "    Margin = round(MarginRaw*100,2)\n",
    "    #Margin = '{percent:.2%}'.format(percent=MarginRaw)\n",
    "\n",
    "    return {'Sticker':sticker,\n",
    "             'IntrinsicVal($)':IntrinsicVal,\n",
    "             'PrevClose($)':PrevClose,\n",
    "             'Decision':Decision,\n",
    "             'Margin(%)':Margin,\n",
    "             'EPS':EPS,\n",
    "             'GrowthEst(%)':GrowthEst}"
   ]
  },
  {
   "cell_type": "code",
   "execution_count": 4,
   "metadata": {},
   "outputs": [],
   "source": [
    "#DO NOT TOUCH THIS\n",
    "\n",
    "#stock_val = GrahamInVal(\"AAPL\")\n",
    "\n",
    "# Create the pandas DataFrame \n",
    "#stock_tabsum = pd.DataFrame.from_dict(stock_val, orient='index')\n",
    "#stock_sum = stock_tabsum.transpose()\n",
    "\n",
    "# print dataframe. \n",
    "#stock_sum.set_index('Sticker', inplace=True)\n"
   ]
  },
  {
   "cell_type": "code",
   "execution_count": 14,
   "metadata": {},
   "outputs": [
    {
     "name": "stdout",
     "output_type": "stream",
     "text": [
      "        IntrinsicVal($) PrevClose($) Decision Margin(%)    EPS GrowthEst(%)\n",
      "Sticker                                                                    \n",
      "SNGX             -12.81         2.26     SELL   -117.64 -0.739            1\n"
     ]
    }
   ],
   "source": [
    "stock_list = Series([\"SNGX\"])\n",
    "\n",
    "#stock_sum = pd.DataFrame(np.array([[nan, nan, nan, nan, nan, nan, nan]]),\n",
    "stock_sum = pd.DataFrame(np.arange(7*stock_list.size).reshape((stock_list.size,7)),\n",
    "                         columns=['Sticker',\n",
    "                                  'IntrinsicVal($)',\n",
    "                                  'PrevClose($)',\n",
    "                                  'Decision', \n",
    "                                  'Margin(%)',\n",
    "                                  'EPS',\n",
    "                                  'GrowthEst(%)'])\n",
    "\n",
    "for i in stock_list:\n",
    "    ami=GrahamInVal(i)\n",
    "    ami1 = pd.DataFrame.from_dict(ami, orient='index')\n",
    "    ami2 = ami1.transpose()\n",
    "    #print(ami2)\n",
    "    stock_sum = stock_sum.append(ami2)\n",
    "\n",
    "stock_sum.set_index('Sticker', inplace=True)\n",
    "stock_sum.drop(stock_sum.index[0:stock_list.size], inplace=True)\n",
    "print(stock_sum)"
   ]
  },
  {
   "cell_type": "code",
   "execution_count": null,
   "metadata": {},
   "outputs": [],
   "source": []
  }
 ],
 "metadata": {
  "kernelspec": {
   "display_name": "Python 3",
   "language": "python",
   "name": "python3"
  },
  "language_info": {
   "codemirror_mode": {
    "name": "ipython",
    "version": 3
   },
   "file_extension": ".py",
   "mimetype": "text/x-python",
   "name": "python",
   "nbconvert_exporter": "python",
   "pygments_lexer": "ipython3",
   "version": "3.7.4"
  }
 },
 "nbformat": 4,
 "nbformat_minor": 2
}
