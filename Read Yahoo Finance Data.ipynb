{
 "cells": [
  {
   "cell_type": "code",
   "execution_count": 46,
   "metadata": {},
   "outputs": [],
   "source": [
    "# Reading Yahoo finance data made easy\n",
    "# https://www.youtube.com/playlist?list=PL1EfVfbD6djHHxTzicLzdX5jzH0wEgDs7\n",
    "# pip install yahoo_fin\n",
    "# pip install requests_html\n",
    "# pip insitall -U ray (for parallel processing of functions) \n",
    "\n",
    "import yahoo_fin.stock_info as si"
   ]
  },
  {
   "cell_type": "code",
   "execution_count": 47,
   "metadata": {},
   "outputs": [],
   "source": [
    "# Read Growth Estimates - Next 5 Years (per annum)\n",
    "analysts = si.get_analysts_info(\"AMD\")"
   ]
  },
  {
   "cell_type": "code",
   "execution_count": 48,
   "metadata": {},
   "outputs": [],
   "source": [
    "#Read longTermDebt\n",
    "balance_sheet = si.get_balance_sheet(\"AMD\")"
   ]
  },
  {
   "cell_type": "code",
   "execution_count": 49,
   "metadata": {},
   "outputs": [],
   "source": [
    "cash_flow = si.get_cash_flow(\"AMD\")"
   ]
  },
  {
   "cell_type": "code",
   "execution_count": 50,
   "metadata": {},
   "outputs": [],
   "source": [
    "# Read interestExpense, incomeTaxExpense, incomeBeforeTax\n",
    "financial =si.get_financials(\"AMD\")"
   ]
  },
  {
   "cell_type": "code",
   "execution_count": 59,
   "metadata": {},
   "outputs": [],
   "source": [
    "# Read interestExpense, incomeTaxExpense, incomeBeforeTax\n",
    "income_statement = si.get_income_statement(\"AMD\")"
   ]
  },
  {
   "cell_type": "code",
   "execution_count": 52,
   "metadata": {},
   "outputs": [],
   "source": [
    "# Read Beta (5Y Monthly), Diluted EPS (ttm), Shares Outstanding\n",
    "stats = si.get_stats(\"AMD\")"
   ]
  },
  {
   "cell_type": "code",
   "execution_count": 66,
   "metadata": {},
   "outputs": [],
   "source": [
    "# Read Market Cap (intraday)\n",
    "url_Summary = 'https://finance.yahoo.com/quote/AMD'\n",
    "dframe_list_Summary = pd.read_html(url_Summary)\n",
    "MarketCap_tab = dframe_list_Summary[1]\n",
    "MarketCap_str = MarketCap_tab.loc[0,1]\n",
    "MarketCap = float(MarketCap_str[:-1])*1000"
   ]
  },
  {
   "cell_type": "code",
   "execution_count": 67,
   "metadata": {},
   "outputs": [
    {
     "data": {
      "text/plain": [
       "100159.0"
      ]
     },
     "execution_count": 67,
     "metadata": {},
     "output_type": "execute_result"
    }
   ],
   "source": [
    "MarketCap"
   ]
  },
  {
   "cell_type": "code",
   "execution_count": 30,
   "metadata": {},
   "outputs": [],
   "source": [
    "import pandas as pd\n",
    "from pandas import Series, DataFrame\n",
    "from pandas import read_html"
   ]
  },
  {
   "cell_type": "code",
   "execution_count": 31,
   "metadata": {},
   "outputs": [],
   "source": [
    "# Read Treasury Yield 10 Years\n",
    "url_bond = 'https://finance.yahoo.com/bonds'\n",
    "dframe_list_bond = pd.read_html(url_bond)"
   ]
  },
  {
   "cell_type": "code",
   "execution_count": 32,
   "metadata": {},
   "outputs": [
    {
     "data": {
      "text/plain": [
       "[  Symbol                     Name  Last Price  Change % Change  52 Week Range  \\\n",
       " 0   ^IRX    13 Week Treasury Bill       0.095   0.005   +5.56%            NaN   \n",
       " 1   ^FVX   Treasury Yield 5 Years       0.218   0.023  +11.79%            NaN   \n",
       " 2   ^TNX  Treasury Yield 10 Years       0.543   0.028   +5.44%            NaN   \n",
       " 3   ^TYX  Treasury Yield 30 Years       1.219   0.028   +2.35%            NaN   \n",
       " \n",
       "    Day Chart  \n",
       " 0        NaN  \n",
       " 1        NaN  \n",
       " 2        NaN  \n",
       " 3        NaN  ]"
      ]
     },
     "execution_count": 32,
     "metadata": {},
     "output_type": "execute_result"
    }
   ],
   "source": [
    "dframe_list_bond"
   ]
  },
  {
   "cell_type": "code",
   "execution_count": null,
   "metadata": {},
   "outputs": [],
   "source": []
  }
 ],
 "metadata": {
  "kernelspec": {
   "display_name": "Python 3",
   "language": "python",
   "name": "python3"
  },
  "language_info": {
   "codemirror_mode": {
    "name": "ipython",
    "version": 3
   },
   "file_extension": ".py",
   "mimetype": "text/x-python",
   "name": "python",
   "nbconvert_exporter": "python",
   "pygments_lexer": "ipython3",
   "version": "3.7.4"
  }
 },
 "nbformat": 4,
 "nbformat_minor": 2
}
